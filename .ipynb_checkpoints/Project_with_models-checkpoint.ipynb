{
 "cells": [
  {
   "cell_type": "code",
   "execution_count": 1,
   "id": "6ff4d761",
   "metadata": {
    "id": "6ff4d761"
   },
   "outputs": [],
   "source": [
    "import pandas as pd\n",
    "import numpy as np\n",
    "import matplotlib.pyplot as plt\n",
    "import seaborn as sns\n",
    "from sklearn.model_selection import train_test_split"
   ]
  },
  {
   "cell_type": "code",
   "execution_count": 2,
   "id": "ad59af92",
   "metadata": {
    "id": "ad59af92"
   },
   "outputs": [],
   "source": [
    "data = pd.read_csv('CVD.csv')"
   ]
  },
  {
   "cell_type": "code",
   "execution_count": 3,
   "id": "aad7b1d0",
   "metadata": {
    "colab": {
     "base_uri": "https://localhost:8080/",
     "height": 676
    },
    "id": "aad7b1d0",
    "outputId": "0b668058-ee3c-42e3-e123-a7b35999fffe"
   },
   "outputs": [
    {
     "data": {
      "text/html": [
       "<div>\n",
       "<style scoped>\n",
       "    .dataframe tbody tr th:only-of-type {\n",
       "        vertical-align: middle;\n",
       "    }\n",
       "\n",
       "    .dataframe tbody tr th {\n",
       "        vertical-align: top;\n",
       "    }\n",
       "\n",
       "    .dataframe thead th {\n",
       "        text-align: right;\n",
       "    }\n",
       "</style>\n",
       "<table border=\"1\" class=\"dataframe\">\n",
       "  <thead>\n",
       "    <tr style=\"text-align: right;\">\n",
       "      <th></th>\n",
       "      <th>id</th>\n",
       "      <th>age</th>\n",
       "      <th>gender</th>\n",
       "      <th>height</th>\n",
       "      <th>weight</th>\n",
       "      <th>ap_hi</th>\n",
       "      <th>ap_lo</th>\n",
       "      <th>cholesterol</th>\n",
       "      <th>gluc</th>\n",
       "      <th>smoke</th>\n",
       "      <th>alco</th>\n",
       "      <th>active</th>\n",
       "      <th>cardio</th>\n",
       "    </tr>\n",
       "  </thead>\n",
       "  <tbody>\n",
       "    <tr>\n",
       "      <th>0</th>\n",
       "      <td>0</td>\n",
       "      <td>18393</td>\n",
       "      <td>Men</td>\n",
       "      <td>168.0</td>\n",
       "      <td>62.0</td>\n",
       "      <td>110</td>\n",
       "      <td>80</td>\n",
       "      <td>normal</td>\n",
       "      <td>normal</td>\n",
       "      <td>non-smoker</td>\n",
       "      <td>non-alcoholic</td>\n",
       "      <td>active</td>\n",
       "      <td>yes</td>\n",
       "    </tr>\n",
       "    <tr>\n",
       "      <th>1</th>\n",
       "      <td>1</td>\n",
       "      <td>20228</td>\n",
       "      <td>Women</td>\n",
       "      <td>156.0</td>\n",
       "      <td>85.0</td>\n",
       "      <td>140</td>\n",
       "      <td>90</td>\n",
       "      <td>well above normal</td>\n",
       "      <td>normal</td>\n",
       "      <td>non-smoker</td>\n",
       "      <td>non-alcoholic</td>\n",
       "      <td>active</td>\n",
       "      <td>no</td>\n",
       "    </tr>\n",
       "    <tr>\n",
       "      <th>2</th>\n",
       "      <td>2</td>\n",
       "      <td>18857</td>\n",
       "      <td>Women</td>\n",
       "      <td>165.0</td>\n",
       "      <td>64.0</td>\n",
       "      <td>130</td>\n",
       "      <td>70</td>\n",
       "      <td>well above normal</td>\n",
       "      <td>normal</td>\n",
       "      <td>non-smoker</td>\n",
       "      <td>non-alcoholic</td>\n",
       "      <td>non-active</td>\n",
       "      <td>no</td>\n",
       "    </tr>\n",
       "    <tr>\n",
       "      <th>3</th>\n",
       "      <td>3</td>\n",
       "      <td>17623</td>\n",
       "      <td>Men</td>\n",
       "      <td>169.0</td>\n",
       "      <td>82.0</td>\n",
       "      <td>150</td>\n",
       "      <td>100</td>\n",
       "      <td>normal</td>\n",
       "      <td>normal</td>\n",
       "      <td>non-smoker</td>\n",
       "      <td>non-alcoholic</td>\n",
       "      <td>active</td>\n",
       "      <td>no</td>\n",
       "    </tr>\n",
       "    <tr>\n",
       "      <th>4</th>\n",
       "      <td>4</td>\n",
       "      <td>17474</td>\n",
       "      <td>Women</td>\n",
       "      <td>156.0</td>\n",
       "      <td>56.0</td>\n",
       "      <td>100</td>\n",
       "      <td>60</td>\n",
       "      <td>normal</td>\n",
       "      <td>normal</td>\n",
       "      <td>non-smoker</td>\n",
       "      <td>non-alcoholic</td>\n",
       "      <td>non-active</td>\n",
       "      <td>yes</td>\n",
       "    </tr>\n",
       "    <tr>\n",
       "      <th>5</th>\n",
       "      <td>8</td>\n",
       "      <td>21914</td>\n",
       "      <td>Women</td>\n",
       "      <td>151.0</td>\n",
       "      <td>67.0</td>\n",
       "      <td>120</td>\n",
       "      <td>80</td>\n",
       "      <td>above normal</td>\n",
       "      <td>above normal</td>\n",
       "      <td>non-smoker</td>\n",
       "      <td>non-alcoholic</td>\n",
       "      <td>non-active</td>\n",
       "      <td>yes</td>\n",
       "    </tr>\n",
       "    <tr>\n",
       "      <th>6</th>\n",
       "      <td>9</td>\n",
       "      <td>22113</td>\n",
       "      <td>Women</td>\n",
       "      <td>157.0</td>\n",
       "      <td>93.0</td>\n",
       "      <td>130</td>\n",
       "      <td>80</td>\n",
       "      <td>well above normal</td>\n",
       "      <td>normal</td>\n",
       "      <td>non-smoker</td>\n",
       "      <td>non-alcoholic</td>\n",
       "      <td>active</td>\n",
       "      <td>yes</td>\n",
       "    </tr>\n",
       "    <tr>\n",
       "      <th>7</th>\n",
       "      <td>12</td>\n",
       "      <td>22584</td>\n",
       "      <td>Men</td>\n",
       "      <td>178.0</td>\n",
       "      <td>95.0</td>\n",
       "      <td>130</td>\n",
       "      <td>90</td>\n",
       "      <td>well above normal</td>\n",
       "      <td>well above normal</td>\n",
       "      <td>non-smoker</td>\n",
       "      <td>non-alcoholic</td>\n",
       "      <td>active</td>\n",
       "      <td>no</td>\n",
       "    </tr>\n",
       "    <tr>\n",
       "      <th>8</th>\n",
       "      <td>13</td>\n",
       "      <td>17668</td>\n",
       "      <td>Women</td>\n",
       "      <td>158.0</td>\n",
       "      <td>71.0</td>\n",
       "      <td>110</td>\n",
       "      <td>70</td>\n",
       "      <td>normal</td>\n",
       "      <td>normal</td>\n",
       "      <td>non-smoker</td>\n",
       "      <td>non-alcoholic</td>\n",
       "      <td>active</td>\n",
       "      <td>yes</td>\n",
       "    </tr>\n",
       "    <tr>\n",
       "      <th>9</th>\n",
       "      <td>14</td>\n",
       "      <td>19834</td>\n",
       "      <td>Women</td>\n",
       "      <td>164.0</td>\n",
       "      <td>68.0</td>\n",
       "      <td>110</td>\n",
       "      <td>60</td>\n",
       "      <td>normal</td>\n",
       "      <td>normal</td>\n",
       "      <td>non-smoker</td>\n",
       "      <td>non-alcoholic</td>\n",
       "      <td>non-active</td>\n",
       "      <td>yes</td>\n",
       "    </tr>\n",
       "    <tr>\n",
       "      <th>10</th>\n",
       "      <td>15</td>\n",
       "      <td>22530</td>\n",
       "      <td>Women</td>\n",
       "      <td>169.0</td>\n",
       "      <td>80.0</td>\n",
       "      <td>120</td>\n",
       "      <td>80</td>\n",
       "      <td>normal</td>\n",
       "      <td>normal</td>\n",
       "      <td>non-smoker</td>\n",
       "      <td>non-alcoholic</td>\n",
       "      <td>active</td>\n",
       "      <td>yes</td>\n",
       "    </tr>\n",
       "    <tr>\n",
       "      <th>11</th>\n",
       "      <td>16</td>\n",
       "      <td>18815</td>\n",
       "      <td>Men</td>\n",
       "      <td>173.0</td>\n",
       "      <td>60.0</td>\n",
       "      <td>120</td>\n",
       "      <td>80</td>\n",
       "      <td>normal</td>\n",
       "      <td>normal</td>\n",
       "      <td>non-smoker</td>\n",
       "      <td>non-alcoholic</td>\n",
       "      <td>active</td>\n",
       "      <td>yes</td>\n",
       "    </tr>\n",
       "    <tr>\n",
       "      <th>12</th>\n",
       "      <td>18</td>\n",
       "      <td>14791</td>\n",
       "      <td>Men</td>\n",
       "      <td>165.0</td>\n",
       "      <td>60.0</td>\n",
       "      <td>120</td>\n",
       "      <td>80</td>\n",
       "      <td>normal</td>\n",
       "      <td>normal</td>\n",
       "      <td>non-smoker</td>\n",
       "      <td>non-alcoholic</td>\n",
       "      <td>non-active</td>\n",
       "      <td>yes</td>\n",
       "    </tr>\n",
       "    <tr>\n",
       "      <th>13</th>\n",
       "      <td>21</td>\n",
       "      <td>19809</td>\n",
       "      <td>Women</td>\n",
       "      <td>158.0</td>\n",
       "      <td>78.0</td>\n",
       "      <td>110</td>\n",
       "      <td>70</td>\n",
       "      <td>normal</td>\n",
       "      <td>normal</td>\n",
       "      <td>non-smoker</td>\n",
       "      <td>non-alcoholic</td>\n",
       "      <td>active</td>\n",
       "      <td>yes</td>\n",
       "    </tr>\n",
       "    <tr>\n",
       "      <th>14</th>\n",
       "      <td>23</td>\n",
       "      <td>14532</td>\n",
       "      <td>Men</td>\n",
       "      <td>181.0</td>\n",
       "      <td>95.0</td>\n",
       "      <td>130</td>\n",
       "      <td>90</td>\n",
       "      <td>normal</td>\n",
       "      <td>normal</td>\n",
       "      <td>smoker</td>\n",
       "      <td>alcoholic</td>\n",
       "      <td>active</td>\n",
       "      <td>yes</td>\n",
       "    </tr>\n",
       "    <tr>\n",
       "      <th>15</th>\n",
       "      <td>24</td>\n",
       "      <td>16782</td>\n",
       "      <td>Men</td>\n",
       "      <td>172.0</td>\n",
       "      <td>112.0</td>\n",
       "      <td>120</td>\n",
       "      <td>80</td>\n",
       "      <td>normal</td>\n",
       "      <td>normal</td>\n",
       "      <td>non-smoker</td>\n",
       "      <td>non-alcoholic</td>\n",
       "      <td>non-active</td>\n",
       "      <td>no</td>\n",
       "    </tr>\n",
       "    <tr>\n",
       "      <th>16</th>\n",
       "      <td>25</td>\n",
       "      <td>21296</td>\n",
       "      <td>Women</td>\n",
       "      <td>170.0</td>\n",
       "      <td>75.0</td>\n",
       "      <td>130</td>\n",
       "      <td>70</td>\n",
       "      <td>normal</td>\n",
       "      <td>normal</td>\n",
       "      <td>non-smoker</td>\n",
       "      <td>non-alcoholic</td>\n",
       "      <td>non-active</td>\n",
       "      <td>yes</td>\n",
       "    </tr>\n",
       "    <tr>\n",
       "      <th>17</th>\n",
       "      <td>27</td>\n",
       "      <td>16747</td>\n",
       "      <td>Women</td>\n",
       "      <td>158.0</td>\n",
       "      <td>52.0</td>\n",
       "      <td>110</td>\n",
       "      <td>70</td>\n",
       "      <td>normal</td>\n",
       "      <td>well above normal</td>\n",
       "      <td>non-smoker</td>\n",
       "      <td>non-alcoholic</td>\n",
       "      <td>NaN</td>\n",
       "      <td>yes</td>\n",
       "    </tr>\n",
       "    <tr>\n",
       "      <th>18</th>\n",
       "      <td>28</td>\n",
       "      <td>17482</td>\n",
       "      <td>Women</td>\n",
       "      <td>154.0</td>\n",
       "      <td>68.0</td>\n",
       "      <td>100</td>\n",
       "      <td>70</td>\n",
       "      <td>normal</td>\n",
       "      <td>normal</td>\n",
       "      <td>non-smoker</td>\n",
       "      <td>non-alcoholic</td>\n",
       "      <td>non-active</td>\n",
       "      <td>yes</td>\n",
       "    </tr>\n",
       "    <tr>\n",
       "      <th>19</th>\n",
       "      <td>29</td>\n",
       "      <td>21755</td>\n",
       "      <td>Men</td>\n",
       "      <td>162.0</td>\n",
       "      <td>56.0</td>\n",
       "      <td>120</td>\n",
       "      <td>70</td>\n",
       "      <td>normal</td>\n",
       "      <td>normal</td>\n",
       "      <td>smoker</td>\n",
       "      <td>non-alcoholic</td>\n",
       "      <td>active</td>\n",
       "      <td>yes</td>\n",
       "    </tr>\n",
       "  </tbody>\n",
       "</table>\n",
       "</div>"
      ],
      "text/plain": [
       "    id    age gender  height  weight  ap_hi  ap_lo        cholesterol  \\\n",
       "0    0  18393    Men   168.0    62.0    110     80             normal   \n",
       "1    1  20228  Women   156.0    85.0    140     90  well above normal   \n",
       "2    2  18857  Women   165.0    64.0    130     70  well above normal   \n",
       "3    3  17623    Men   169.0    82.0    150    100             normal   \n",
       "4    4  17474  Women   156.0    56.0    100     60             normal   \n",
       "5    8  21914  Women   151.0    67.0    120     80       above normal   \n",
       "6    9  22113  Women   157.0    93.0    130     80  well above normal   \n",
       "7   12  22584    Men   178.0    95.0    130     90  well above normal   \n",
       "8   13  17668  Women   158.0    71.0    110     70             normal   \n",
       "9   14  19834  Women   164.0    68.0    110     60             normal   \n",
       "10  15  22530  Women   169.0    80.0    120     80             normal   \n",
       "11  16  18815    Men   173.0    60.0    120     80             normal   \n",
       "12  18  14791    Men   165.0    60.0    120     80             normal   \n",
       "13  21  19809  Women   158.0    78.0    110     70             normal   \n",
       "14  23  14532    Men   181.0    95.0    130     90             normal   \n",
       "15  24  16782    Men   172.0   112.0    120     80             normal   \n",
       "16  25  21296  Women   170.0    75.0    130     70             normal   \n",
       "17  27  16747  Women   158.0    52.0    110     70             normal   \n",
       "18  28  17482  Women   154.0    68.0    100     70             normal   \n",
       "19  29  21755    Men   162.0    56.0    120     70             normal   \n",
       "\n",
       "                 gluc       smoke           alco      active cardio  \n",
       "0              normal  non-smoker  non-alcoholic      active    yes  \n",
       "1              normal  non-smoker  non-alcoholic      active     no  \n",
       "2              normal  non-smoker  non-alcoholic  non-active     no  \n",
       "3              normal  non-smoker  non-alcoholic      active     no  \n",
       "4              normal  non-smoker  non-alcoholic  non-active    yes  \n",
       "5        above normal  non-smoker  non-alcoholic  non-active    yes  \n",
       "6              normal  non-smoker  non-alcoholic      active    yes  \n",
       "7   well above normal  non-smoker  non-alcoholic      active     no  \n",
       "8              normal  non-smoker  non-alcoholic      active    yes  \n",
       "9              normal  non-smoker  non-alcoholic  non-active    yes  \n",
       "10             normal  non-smoker  non-alcoholic      active    yes  \n",
       "11             normal  non-smoker  non-alcoholic      active    yes  \n",
       "12             normal  non-smoker  non-alcoholic  non-active    yes  \n",
       "13             normal  non-smoker  non-alcoholic      active    yes  \n",
       "14             normal      smoker      alcoholic      active    yes  \n",
       "15             normal  non-smoker  non-alcoholic  non-active     no  \n",
       "16             normal  non-smoker  non-alcoholic  non-active    yes  \n",
       "17  well above normal  non-smoker  non-alcoholic         NaN    yes  \n",
       "18             normal  non-smoker  non-alcoholic  non-active    yes  \n",
       "19             normal      smoker  non-alcoholic      active    yes  "
      ]
     },
     "execution_count": 3,
     "metadata": {},
     "output_type": "execute_result"
    }
   ],
   "source": [
    "data.head(20)"
   ]
  },
  {
   "cell_type": "code",
   "execution_count": 4,
   "id": "f0c7696c",
   "metadata": {
    "colab": {
     "base_uri": "https://localhost:8080/"
    },
    "id": "f0c7696c",
    "outputId": "95597831-cd82-47c5-d831-cc315c73f568"
   },
   "outputs": [
    {
     "data": {
      "text/plain": [
       "(70000, 13)"
      ]
     },
     "execution_count": 4,
     "metadata": {},
     "output_type": "execute_result"
    }
   ],
   "source": [
    "data.shape"
   ]
  },
  {
   "cell_type": "code",
   "execution_count": 5,
   "id": "d44377d1",
   "metadata": {},
   "outputs": [
    {
     "name": "stdout",
     "output_type": "stream",
     "text": [
      "<class 'pandas.core.frame.DataFrame'>\n",
      "RangeIndex: 70000 entries, 0 to 69999\n",
      "Data columns (total 13 columns):\n",
      " #   Column       Non-Null Count  Dtype  \n",
      "---  ------       --------------  -----  \n",
      " 0   id           70000 non-null  int64  \n",
      " 1   age          70000 non-null  int64  \n",
      " 2   gender       69937 non-null  object \n",
      " 3   height       69685 non-null  float64\n",
      " 4   weight       69608 non-null  float64\n",
      " 5   ap_hi        70000 non-null  int64  \n",
      " 6   ap_lo        70000 non-null  int64  \n",
      " 7   cholesterol  70000 non-null  object \n",
      " 8   gluc         70000 non-null  object \n",
      " 9   smoke        69748 non-null  object \n",
      " 10  alco         69937 non-null  object \n",
      " 11  active       69475 non-null  object \n",
      " 12  cardio       70000 non-null  object \n",
      "dtypes: float64(2), int64(4), object(7)\n",
      "memory usage: 6.9+ MB\n"
     ]
    }
   ],
   "source": [
    "data.info()"
   ]
  },
  {
   "cell_type": "markdown",
   "id": "d26b469d",
   "metadata": {},
   "source": [
    "## remove or replace null "
   ]
  },
  {
   "cell_type": "code",
   "execution_count": 6,
   "id": "iNO6ViyMjNmf",
   "metadata": {
    "colab": {
     "base_uri": "https://localhost:8080/"
    },
    "id": "iNO6ViyMjNmf",
    "outputId": "005aace8-0042-492a-fdcc-0e96eea9dd77"
   },
   "outputs": [
    {
     "data": {
      "text/plain": [
       "id               0\n",
       "age              0\n",
       "gender          63\n",
       "height         315\n",
       "weight         392\n",
       "ap_hi            0\n",
       "ap_lo            0\n",
       "cholesterol      0\n",
       "gluc             0\n",
       "smoke          252\n",
       "alco            63\n",
       "active         525\n",
       "cardio           0\n",
       "dtype: int64"
      ]
     },
     "execution_count": 6,
     "metadata": {},
     "output_type": "execute_result"
    }
   ],
   "source": [
    "data.isna().sum()"
   ]
  },
  {
   "cell_type": "code",
   "execution_count": 7,
   "id": "f172fbd7",
   "metadata": {},
   "outputs": [
    {
     "data": {
      "text/html": [
       "<div>\n",
       "<style scoped>\n",
       "    .dataframe tbody tr th:only-of-type {\n",
       "        vertical-align: middle;\n",
       "    }\n",
       "\n",
       "    .dataframe tbody tr th {\n",
       "        vertical-align: top;\n",
       "    }\n",
       "\n",
       "    .dataframe thead th {\n",
       "        text-align: right;\n",
       "    }\n",
       "</style>\n",
       "<table border=\"1\" class=\"dataframe\">\n",
       "  <thead>\n",
       "    <tr style=\"text-align: right;\">\n",
       "      <th></th>\n",
       "      <th>Column</th>\n",
       "      <th>Missing Values</th>\n",
       "      <th>Percentage</th>\n",
       "    </tr>\n",
       "  </thead>\n",
       "  <tbody>\n",
       "    <tr>\n",
       "      <th>active</th>\n",
       "      <td>active</td>\n",
       "      <td>525</td>\n",
       "      <td>0.75</td>\n",
       "    </tr>\n",
       "    <tr>\n",
       "      <th>weight</th>\n",
       "      <td>weight</td>\n",
       "      <td>392</td>\n",
       "      <td>0.56</td>\n",
       "    </tr>\n",
       "    <tr>\n",
       "      <th>height</th>\n",
       "      <td>height</td>\n",
       "      <td>315</td>\n",
       "      <td>0.45</td>\n",
       "    </tr>\n",
       "    <tr>\n",
       "      <th>smoke</th>\n",
       "      <td>smoke</td>\n",
       "      <td>252</td>\n",
       "      <td>0.36</td>\n",
       "    </tr>\n",
       "    <tr>\n",
       "      <th>gender</th>\n",
       "      <td>gender</td>\n",
       "      <td>63</td>\n",
       "      <td>0.09</td>\n",
       "    </tr>\n",
       "    <tr>\n",
       "      <th>alco</th>\n",
       "      <td>alco</td>\n",
       "      <td>63</td>\n",
       "      <td>0.09</td>\n",
       "    </tr>\n",
       "  </tbody>\n",
       "</table>\n",
       "</div>"
      ],
      "text/plain": [
       "        Column  Missing Values  Percentage\n",
       "active  active             525        0.75\n",
       "weight  weight             392        0.56\n",
       "height  height             315        0.45\n",
       "smoke    smoke             252        0.36\n",
       "gender  gender              63        0.09\n",
       "alco      alco              63        0.09"
      ]
     },
     "execution_count": 7,
     "metadata": {},
     "output_type": "execute_result"
    }
   ],
   "source": [
    "missing_values = data.isnull().sum()\n",
    "missing_percent = (missing_values / len(data)) * 100\n",
    "\n",
    "# Creating a DataFrame for missing value analysis\n",
    "missing_df = pd.DataFrame({'Column': missing_values.index, 'Missing Values': missing_values, 'Percentage': missing_percent})\n",
    "\n",
    "# Sort by the percentage of missing values\n",
    "missing_df = missing_df[missing_df['Missing Values'] > 0].sort_values(by='Percentage', ascending=False)\n",
    "missing_df"
   ]
  },
  {
   "cell_type": "code",
   "execution_count": 8,
   "id": "Gv3aKnLQjSal",
   "metadata": {
    "id": "Gv3aKnLQjSal"
   },
   "outputs": [],
   "source": [
    "data= data.dropna(subset= ['smoke','alco','active','gender'],axis = 0)"
   ]
  },
  {
   "cell_type": "code",
   "execution_count": 9,
   "id": "2KZg_lY6jTLG",
   "metadata": {
    "colab": {
     "base_uri": "https://localhost:8080/"
    },
    "id": "2KZg_lY6jTLG",
    "outputId": "3f7df0df-e1fb-4514-d965-d3e63e5454c0"
   },
   "outputs": [
    {
     "data": {
      "text/plain": [
       "id               0\n",
       "age              0\n",
       "gender           0\n",
       "height         309\n",
       "weight         388\n",
       "ap_hi            0\n",
       "ap_lo            0\n",
       "cholesterol      0\n",
       "gluc             0\n",
       "smoke            0\n",
       "alco             0\n",
       "active           0\n",
       "cardio           0\n",
       "dtype: int64"
      ]
     },
     "execution_count": 9,
     "metadata": {},
     "output_type": "execute_result"
    }
   ],
   "source": [
    "data.isna().sum()"
   ]
  },
  {
   "cell_type": "code",
   "execution_count": 10,
   "id": "48d7826f",
   "metadata": {},
   "outputs": [],
   "source": [
    "# Calculate the mean for each integer column\n",
    "Height_column_means = data['height'].mean()\n",
    "# Replace NaN values with the mean of each respective column\n",
    "data['height'] = data['height'].fillna(Height_column_means)\n"
   ]
  },
  {
   "cell_type": "code",
   "execution_count": 11,
   "id": "636ecaf3",
   "metadata": {},
   "outputs": [],
   "source": [
    "# Calculate the mean for each integer column\n",
    "Height_column_means = data['weight'].mean()\n",
    "# Replace NaN values with the mean of each respective column\n",
    "data['weight'] = data['weight'].fillna(Height_column_means)\n"
   ]
  },
  {
   "cell_type": "code",
   "execution_count": 12,
   "id": "298f2fb8",
   "metadata": {},
   "outputs": [
    {
     "data": {
      "text/plain": [
       "id             0\n",
       "age            0\n",
       "gender         0\n",
       "height         0\n",
       "weight         0\n",
       "ap_hi          0\n",
       "ap_lo          0\n",
       "cholesterol    0\n",
       "gluc           0\n",
       "smoke          0\n",
       "alco           0\n",
       "active         0\n",
       "cardio         0\n",
       "dtype: int64"
      ]
     },
     "execution_count": 12,
     "metadata": {},
     "output_type": "execute_result"
    }
   ],
   "source": [
    "data.isna().sum()"
   ]
  },
  {
   "cell_type": "markdown",
   "id": "9ab69d96",
   "metadata": {},
   "source": [
    "## outliers analysis"
   ]
  },
  {
   "cell_type": "code",
   "execution_count": 13,
   "id": "810f4339",
   "metadata": {},
   "outputs": [
    {
     "data": {
      "image/png": "[encoded data removed]",
      "text/plain": [
       "<Figure size 1500x600 with 4 Axes>"
      ]
     },
     "metadata": {},
     "output_type": "display_data"
    }
   ],
   "source": [
    "# Outlier Analysis for key numerical columns: 'ap_hi', 'ap_lo', 'height', and 'weight'\n",
    "\n",
    "# Creating boxplots to visualize outliers\n",
    "plt.figure(figsize=(15, 6))\n",
    "\n",
    "# Blood Pressure: ap_hi\n",
    "plt.subplot(2, 2, 1)\n",
    "sns.boxplot(x=data['ap_hi'])\n",
    "plt.title('Distribution of ap_hi')\n",
    "\n",
    "# Blood Pressure: ap_lo\n",
    "plt.subplot(2, 2, 2)\n",
    "sns.boxplot(x=data['ap_lo'])\n",
    "plt.title('Distribution of ap_lo')\n",
    "\n",
    "# Height\n",
    "plt.subplot(2, 2, 3)\n",
    "sns.boxplot(x=data['height'])\n",
    "plt.title('Distribution of Height')\n",
    "\n",
    "# Weight\n",
    "plt.subplot(2, 2, 4)\n",
    "sns.boxplot(x=data['weight'])\n",
    "plt.title('Distribution of Weight')\n",
    "\n",
    "plt.tight_layout()\n",
    "plt.show()"
   ]
  },
  {
   "cell_type": "code",
   "execution_count": 14,
   "id": "3dde5b7c",
   "metadata": {},
   "outputs": [
    {
     "name": "stdout",
     "output_type": "stream",
     "text": [
      "<class 'pandas.core.frame.DataFrame'>\n",
      "Int64Index: 69091 entries, 0 to 69998\n",
      "Data columns (total 12 columns):\n",
      " #   Column       Non-Null Count  Dtype  \n",
      "---  ------       --------------  -----  \n",
      " 0   age          69091 non-null  int64  \n",
      " 1   gender       69091 non-null  object \n",
      " 2   height       69091 non-null  float64\n",
      " 3   weight       69091 non-null  float64\n",
      " 4   ap_hi        69091 non-null  int64  \n",
      " 5   ap_lo        69091 non-null  int64  \n",
      " 6   cholesterol  69091 non-null  object \n",
      " 7   gluc         69091 non-null  object \n",
      " 8   smoke        69091 non-null  object \n",
      " 9   alco         69091 non-null  object \n",
      " 10  active       69091 non-null  object \n",
      " 11  cardio       69091 non-null  object \n",
      "dtypes: float64(2), int64(3), object(7)\n",
      "memory usage: 6.9+ MB\n"
     ]
    },
    {
     "name": "stderr",
     "output_type": "stream",
     "text": [
      "/var/folders/tk/s_5s956j5ldbcsnzm9cvmz080000gn/T/ipykernel_2271/3167006659.py:9: SettingWithCopyWarning: \n",
      "A value is trying to be set on a copy of a slice from a DataFrame\n",
      "\n",
      "See the caveats in the documentation: https://pandas.pydata.org/pandas-docs/stable/user_guide/indexing.html#returning-a-view-versus-a-copy\n",
      "  new_data.drop('id', axis=1, inplace=True)\n"
     ]
    }
   ],
   "source": [
    "\n",
    "# Handling Outliers\n",
    "# Setting reasonable thresholds for blood pressure, height, and weight\n",
    "new_data = data[(data['ap_hi'] >= 80) & (data['ap_hi'] <= 200)]  # Systolic blood pressure\n",
    "new_data = data[(data['ap_lo'] >= 50) & (data['ap_lo'] <= 150)]  # Diastolic blood pressure\n",
    "new_data = data[(data['height'] >= 100) & (data['height'] <= 200)]  # Height\n",
    "new_data = data[(data['weight'] >= 30) & (data['weight'] <= 200)]  # Weight\n",
    "\n",
    "# Dropping the 'id' column as it's not relevant for prediction\n",
    "new_data.drop('id', axis=1, inplace=True)\n",
    "\n",
    "# Checking the dataset after handling missing values and outliers\n",
    "new_data.info()"
   ]
  },
  {
   "cell_type": "markdown",
   "id": "90668e1f",
   "metadata": {},
   "source": [
    "## handling outliers using z-score"
   ]
  },
  {
   "cell_type": "code",
   "execution_count": 15,
   "id": "bac25338",
   "metadata": {},
   "outputs": [],
   "source": [
    "\n",
    "# Set a threshold for Z-score (e.g., 3 standard deviations)\n",
    "z_threshold = 3\n",
    "\n",
    "# Find upper and lower limits\n",
    "#Height\n",
    "height_upper_limit = data['height'].mean() + z_threshold * data['height'].std()\n",
    "height_lower_limit = data['height'].mean() - z_threshold * data['height'].std()\n",
    "\n",
    "#weight\n",
    "weight_upper_limit = data['weight'].mean() + z_threshold * data['weight'].std()\n",
    "weight_lower_limit = data['weight'].mean() - z_threshold * data['weight'].std()\n",
    "\n",
    "#ap_hi\n",
    "ap_hi_upper_limit = data['ap_hi'].mean() + z_threshold * data['ap_hi'].std()\n",
    "ap_hi_lower_limit = data['ap_hi'].mean() - z_threshold * data['ap_hi'].std()\n",
    "\n",
    "#ap_low\n",
    "ap_lo_upper_limit = data['ap_lo'].mean() + z_threshold * data['ap_lo'].std()\n",
    "ap_lo_lower_limit = data['ap_lo'].mean() - z_threshold * data['ap_lo'].std()"
   ]
  },
  {
   "cell_type": "code",
   "execution_count": 16,
   "id": "1e57163e",
   "metadata": {},
   "outputs": [
    {
     "name": "stdout",
     "output_type": "stream",
     "text": [
      "<class 'pandas.core.frame.DataFrame'>\n",
      "Int64Index: 67191 entries, 0 to 69998\n",
      "Data columns (total 12 columns):\n",
      " #   Column       Non-Null Count  Dtype  \n",
      "---  ------       --------------  -----  \n",
      " 0   age          67191 non-null  int64  \n",
      " 1   gender       67191 non-null  object \n",
      " 2   height       67191 non-null  float64\n",
      " 3   weight       67191 non-null  float64\n",
      " 4   ap_hi        67191 non-null  int64  \n",
      " 5   ap_lo        67191 non-null  int64  \n",
      " 6   cholesterol  67191 non-null  object \n",
      " 7   gluc         67191 non-null  object \n",
      " 8   smoke        67191 non-null  object \n",
      " 9   alco         67191 non-null  object \n",
      " 10  active       67191 non-null  object \n",
      " 11  cardio       67191 non-null  object \n",
      "dtypes: float64(2), int64(3), object(7)\n",
      "memory usage: 6.7+ MB\n"
     ]
    }
   ],
   "source": [
    "# Handling Outliers - using z score\n",
    "# Setting reasonable thresholds for blood pressure, height, and weight\n",
    "data = data[(data['ap_hi'] >= ap_hi_lower_limit) & (data['ap_hi'] <= ap_hi_upper_limit)]  # Systolic blood pressure\n",
    "data = data[(data['ap_lo'] >= ap_lo_lower_limit) & (data['ap_lo'] <= ap_lo_upper_limit)]  # Diastolic blood pressure\n",
    "data = data[(data['height'] >= height_lower_limit) & (data['height'] <= height_upper_limit)]  # Height\n",
    "data = data[(data['weight'] >= weight_lower_limit) & (data['weight'] <= weight_upper_limit)]  # Weight\n",
    "\n",
    "# Dropping the 'id' column as it's not relevant for prediction\n",
    "data.drop('id', axis=1, inplace=True)\n",
    "\n",
    "# Checking the dataset after handling missing values and outliers\n",
    "data.info()"
   ]
  },
  {
   "cell_type": "code",
   "execution_count": 17,
   "id": "b34b4560",
   "metadata": {},
   "outputs": [
    {
     "data": {
      "image/png": "[encoded data removed]",
      "text/plain": [
       "<Figure size 1500x600 with 4 Axes>"
      ]
     },
     "metadata": {},
     "output_type": "display_data"
    }
   ],
   "source": [
    "# Outlier Analysis for key numerical columns: 'ap_hi', 'ap_lo', 'height', and 'weight'\n",
    "\n",
    "# Creating boxplots to visualize outliers\n",
    "plt.figure(figsize=(15, 6))\n",
    "\n",
    "# Blood Pressure: ap_hi\n",
    "plt.subplot(2, 2, 1)\n",
    "sns.boxplot(x=data['ap_hi'])\n",
    "plt.title('Distribution of ap_hi')\n",
    "\n",
    "# Blood Pressure: ap_lo\n",
    "plt.subplot(2, 2, 2)\n",
    "sns.boxplot(x=data['ap_lo'])\n",
    "plt.title('Distribution of ap_lo')\n",
    "\n",
    "# Height\n",
    "plt.subplot(2, 2, 3)\n",
    "sns.boxplot(x=data['height'])\n",
    "plt.title('Distribution of Height')\n",
    "\n",
    "# Weight\n",
    "plt.subplot(2, 2, 4)\n",
    "sns.boxplot(x=data['weight'])\n",
    "plt.title('Distribution of Weight')\n",
    "\n",
    "plt.tight_layout()\n",
    "plt.show()"
   ]
  },
  {
   "cell_type": "markdown",
   "id": "cfc17dcc",
   "metadata": {},
   "source": [
    "## factorise data"
   ]
  },
  {
   "cell_type": "code",
   "execution_count": 18,
   "id": "2c7edd9b",
   "metadata": {},
   "outputs": [],
   "source": [
    "data['gender'] = data['gender'].str.capitalize()\n",
    "data['cholesterol'] = data['cholesterol'].str.capitalize()\n",
    "data['gluc'] = data['gluc'].str.capitalize()\n",
    "data['smoke'] = data['smoke'].str.capitalize()\n",
    "data['alco'] = data['alco'].str.capitalize()\n",
    "data['active'] = data['active'].str.capitalize()\n",
    "data['cardio'] = data['cardio'].str.capitalize()"
   ]
  },
  {
   "cell_type": "code",
   "execution_count": 19,
   "id": "UwCIo8tYoy9E",
   "metadata": {
    "id": "UwCIo8tYoy9E"
   },
   "outputs": [],
   "source": [
    "data['gender'] = data['gender'].replace({ 'Women':1, 'Men':2})"
   ]
  },
  {
   "cell_type": "code",
   "execution_count": 20,
   "id": "4c99cd2e",
   "metadata": {
    "id": "4c99cd2e"
   },
   "outputs": [],
   "source": [
    "data['cholesterol'] = data['cholesterol'].replace({ 'Normal':1, 'Above normal':2,'Well above normal':3})"
   ]
  },
  {
   "cell_type": "code",
   "execution_count": 21,
   "id": "fcc81c6f",
   "metadata": {
    "id": "fcc81c6f"
   },
   "outputs": [],
   "source": [
    "data['gluc'] = data['gluc'].replace( { 'Normal':1, 'Above normal':2,'Well above normal':3})"
   ]
  },
  {
   "cell_type": "code",
   "execution_count": 22,
   "id": "02ed6049",
   "metadata": {
    "id": "02ed6049"
   },
   "outputs": [],
   "source": [
    "data['smoke'] = data['smoke'].replace({ 'Non-smoker':0, 'Smoker':1})"
   ]
  },
  {
   "cell_type": "code",
   "execution_count": 23,
   "id": "521469d2",
   "metadata": {
    "id": "521469d2"
   },
   "outputs": [],
   "source": [
    "data['alco'] = data['alco'].replace({ 'Non-alcoholic':0, 'Alcoholic':1})"
   ]
  },
  {
   "cell_type": "code",
   "execution_count": 24,
   "id": "e82032d2",
   "metadata": {
    "id": "e82032d2"
   },
   "outputs": [],
   "source": [
    "data['active'] = data['active'].replace({'Non-active':0, 'Active':1})"
   ]
  },
  {
   "cell_type": "code",
   "execution_count": 25,
   "id": "fe766d9a",
   "metadata": {
    "id": "fe766d9a"
   },
   "outputs": [],
   "source": [
    "data['cardio'] = data['cardio'].replace({'Yes':0, 'No':1})"
   ]
  },
  {
   "cell_type": "code",
   "execution_count": 26,
   "id": "e96b224d",
   "metadata": {
    "colab": {
     "base_uri": "https://localhost:8080/",
     "height": 206
    },
    "id": "e96b224d",
    "outputId": "72fb7010-891c-4ac2-e661-b8eb11674256"
   },
   "outputs": [
    {
     "data": {
      "text/html": [
       "<div>\n",
       "<style scoped>\n",
       "    .dataframe tbody tr th:only-of-type {\n",
       "        vertical-align: middle;\n",
       "    }\n",
       "\n",
       "    .dataframe tbody tr th {\n",
       "        vertical-align: top;\n",
       "    }\n",
       "\n",
       "    .dataframe thead th {\n",
       "        text-align: right;\n",
       "    }\n",
       "</style>\n",
       "<table border=\"1\" class=\"dataframe\">\n",
       "  <thead>\n",
       "    <tr style=\"text-align: right;\">\n",
       "      <th></th>\n",
       "      <th>age</th>\n",
       "      <th>gender</th>\n",
       "      <th>height</th>\n",
       "      <th>weight</th>\n",
       "      <th>ap_hi</th>\n",
       "      <th>ap_lo</th>\n",
       "      <th>cholesterol</th>\n",
       "      <th>gluc</th>\n",
       "      <th>smoke</th>\n",
       "      <th>alco</th>\n",
       "      <th>active</th>\n",
       "      <th>cardio</th>\n",
       "    </tr>\n",
       "  </thead>\n",
       "  <tbody>\n",
       "    <tr>\n",
       "      <th>0</th>\n",
       "      <td>18393</td>\n",
       "      <td>2</td>\n",
       "      <td>168.0</td>\n",
       "      <td>62.0</td>\n",
       "      <td>110</td>\n",
       "      <td>80</td>\n",
       "      <td>1</td>\n",
       "      <td>1</td>\n",
       "      <td>0</td>\n",
       "      <td>0</td>\n",
       "      <td>1</td>\n",
       "      <td>0</td>\n",
       "    </tr>\n",
       "    <tr>\n",
       "      <th>1</th>\n",
       "      <td>20228</td>\n",
       "      <td>1</td>\n",
       "      <td>156.0</td>\n",
       "      <td>85.0</td>\n",
       "      <td>140</td>\n",
       "      <td>90</td>\n",
       "      <td>3</td>\n",
       "      <td>1</td>\n",
       "      <td>0</td>\n",
       "      <td>0</td>\n",
       "      <td>1</td>\n",
       "      <td>1</td>\n",
       "    </tr>\n",
       "    <tr>\n",
       "      <th>2</th>\n",
       "      <td>18857</td>\n",
       "      <td>1</td>\n",
       "      <td>165.0</td>\n",
       "      <td>64.0</td>\n",
       "      <td>130</td>\n",
       "      <td>70</td>\n",
       "      <td>3</td>\n",
       "      <td>1</td>\n",
       "      <td>0</td>\n",
       "      <td>0</td>\n",
       "      <td>0</td>\n",
       "      <td>1</td>\n",
       "    </tr>\n",
       "    <tr>\n",
       "      <th>3</th>\n",
       "      <td>17623</td>\n",
       "      <td>2</td>\n",
       "      <td>169.0</td>\n",
       "      <td>82.0</td>\n",
       "      <td>150</td>\n",
       "      <td>100</td>\n",
       "      <td>1</td>\n",
       "      <td>1</td>\n",
       "      <td>0</td>\n",
       "      <td>0</td>\n",
       "      <td>1</td>\n",
       "      <td>1</td>\n",
       "    </tr>\n",
       "    <tr>\n",
       "      <th>4</th>\n",
       "      <td>17474</td>\n",
       "      <td>1</td>\n",
       "      <td>156.0</td>\n",
       "      <td>56.0</td>\n",
       "      <td>100</td>\n",
       "      <td>60</td>\n",
       "      <td>1</td>\n",
       "      <td>1</td>\n",
       "      <td>0</td>\n",
       "      <td>0</td>\n",
       "      <td>0</td>\n",
       "      <td>0</td>\n",
       "    </tr>\n",
       "  </tbody>\n",
       "</table>\n",
       "</div>"
      ],
      "text/plain": [
       "     age  gender  height  weight  ap_hi  ap_lo  cholesterol  gluc  smoke  \\\n",
       "0  18393       2   168.0    62.0    110     80            1     1      0   \n",
       "1  20228       1   156.0    85.0    140     90            3     1      0   \n",
       "2  18857       1   165.0    64.0    130     70            3     1      0   \n",
       "3  17623       2   169.0    82.0    150    100            1     1      0   \n",
       "4  17474       1   156.0    56.0    100     60            1     1      0   \n",
       "\n",
       "   alco  active  cardio  \n",
       "0     0       1       0  \n",
       "1     0       1       1  \n",
       "2     0       0       1  \n",
       "3     0       1       1  \n",
       "4     0       0       0  "
      ]
     },
     "execution_count": 26,
     "metadata": {},
     "output_type": "execute_result"
    }
   ],
   "source": [
    "data.head()"
   ]
  },
  {
   "cell_type": "markdown",
   "id": "e8c3c25a",
   "metadata": {},
   "source": [
    "## add bmi for better solution"
   ]
  },
  {
   "cell_type": "code",
   "execution_count": 27,
   "id": "3e63109d",
   "metadata": {},
   "outputs": [
    {
     "data": {
      "text/html": [
       "<div>\n",
       "<style scoped>\n",
       "    .dataframe tbody tr th:only-of-type {\n",
       "        vertical-align: middle;\n",
       "    }\n",
       "\n",
       "    .dataframe tbody tr th {\n",
       "        vertical-align: top;\n",
       "    }\n",
       "\n",
       "    .dataframe thead th {\n",
       "        text-align: right;\n",
       "    }\n",
       "</style>\n",
       "<table border=\"1\" class=\"dataframe\">\n",
       "  <thead>\n",
       "    <tr style=\"text-align: right;\">\n",
       "      <th></th>\n",
       "      <th>age</th>\n",
       "      <th>gender</th>\n",
       "      <th>ap_hi</th>\n",
       "      <th>ap_lo</th>\n",
       "      <th>cholesterol</th>\n",
       "      <th>gluc</th>\n",
       "      <th>smoke</th>\n",
       "      <th>alco</th>\n",
       "      <th>active</th>\n",
       "      <th>cardio</th>\n",
       "      <th>BMI</th>\n",
       "    </tr>\n",
       "  </thead>\n",
       "  <tbody>\n",
       "    <tr>\n",
       "      <th>0</th>\n",
       "      <td>18393</td>\n",
       "      <td>2</td>\n",
       "      <td>110</td>\n",
       "      <td>80</td>\n",
       "      <td>1</td>\n",
       "      <td>1</td>\n",
       "      <td>0</td>\n",
       "      <td>0</td>\n",
       "      <td>1</td>\n",
       "      <td>0</td>\n",
       "      <td>21.97</td>\n",
       "    </tr>\n",
       "    <tr>\n",
       "      <th>1</th>\n",
       "      <td>20228</td>\n",
       "      <td>1</td>\n",
       "      <td>140</td>\n",
       "      <td>90</td>\n",
       "      <td>3</td>\n",
       "      <td>1</td>\n",
       "      <td>0</td>\n",
       "      <td>0</td>\n",
       "      <td>1</td>\n",
       "      <td>1</td>\n",
       "      <td>34.93</td>\n",
       "    </tr>\n",
       "    <tr>\n",
       "      <th>2</th>\n",
       "      <td>18857</td>\n",
       "      <td>1</td>\n",
       "      <td>130</td>\n",
       "      <td>70</td>\n",
       "      <td>3</td>\n",
       "      <td>1</td>\n",
       "      <td>0</td>\n",
       "      <td>0</td>\n",
       "      <td>0</td>\n",
       "      <td>1</td>\n",
       "      <td>23.51</td>\n",
       "    </tr>\n",
       "    <tr>\n",
       "      <th>3</th>\n",
       "      <td>17623</td>\n",
       "      <td>2</td>\n",
       "      <td>150</td>\n",
       "      <td>100</td>\n",
       "      <td>1</td>\n",
       "      <td>1</td>\n",
       "      <td>0</td>\n",
       "      <td>0</td>\n",
       "      <td>1</td>\n",
       "      <td>1</td>\n",
       "      <td>28.71</td>\n",
       "    </tr>\n",
       "    <tr>\n",
       "      <th>4</th>\n",
       "      <td>17474</td>\n",
       "      <td>1</td>\n",
       "      <td>100</td>\n",
       "      <td>60</td>\n",
       "      <td>1</td>\n",
       "      <td>1</td>\n",
       "      <td>0</td>\n",
       "      <td>0</td>\n",
       "      <td>0</td>\n",
       "      <td>0</td>\n",
       "      <td>23.01</td>\n",
       "    </tr>\n",
       "  </tbody>\n",
       "</table>\n",
       "</div>"
      ],
      "text/plain": [
       "     age  gender  ap_hi  ap_lo  cholesterol  gluc  smoke  alco  active  \\\n",
       "0  18393       2    110     80            1     1      0     0       1   \n",
       "1  20228       1    140     90            3     1      0     0       1   \n",
       "2  18857       1    130     70            3     1      0     0       0   \n",
       "3  17623       2    150    100            1     1      0     0       1   \n",
       "4  17474       1    100     60            1     1      0     0       0   \n",
       "\n",
       "   cardio    BMI  \n",
       "0       0  21.97  \n",
       "1       1  34.93  \n",
       "2       1  23.51  \n",
       "3       1  28.71  \n",
       "4       0  23.01  "
      ]
     },
     "execution_count": 27,
     "metadata": {},
     "output_type": "execute_result"
    }
   ],
   "source": [
    "\n",
    "# Calculate BMI (assuming weight is in kg and height is in cm)\n",
    "data['BMI'] = (data['weight'] / (data['height'] / 100) ** 2).round(2)\n",
    "\n",
    "# Drop the 'weight' and 'height' columns\n",
    "data.drop(['weight', 'height'], axis=1, inplace=True)\n",
    "data.head()"
   ]
  },
  {
   "cell_type": "markdown",
   "id": "2eeab160",
   "metadata": {
    "id": "60959e1b"
   },
   "source": [
    "## train , test split"
   ]
  },
  {
   "cell_type": "code",
   "execution_count": 28,
   "id": "f771dfb7",
   "metadata": {},
   "outputs": [],
   "source": [
    "X = data.drop('cardio', axis=1)\n",
    "y = data['cardio']"
   ]
  },
  {
   "cell_type": "code",
   "execution_count": 29,
   "id": "d23296f0",
   "metadata": {},
   "outputs": [],
   "source": [
    "X_train, X_test, y_train, y_test = train_test_split(X, y, test_size=0.25, random_state=42)"
   ]
  },
  {
   "cell_type": "code",
   "execution_count": 30,
   "id": "204045fd",
   "metadata": {},
   "outputs": [
    {
     "name": "stdout",
     "output_type": "stream",
     "text": [
      "Train data shape:  (50393, 10)\n",
      "Test data shape:  (16798, 10)\n"
     ]
    }
   ],
   "source": [
    "print(\"Train data shape: \",X_train.shape)\n",
    "print(\"Test data shape: \",X_test.shape)"
   ]
  },
  {
   "cell_type": "code",
   "execution_count": 65,
   "id": "14df047e",
   "metadata": {},
   "outputs": [],
   "source": [
    "## EDA - target vriable analysis\n",
    "## disrtibusion of target column"
   ]
  },
  {
   "cell_type": "code",
   "execution_count": 64,
   "id": "752f6ba0",
   "metadata": {},
   "outputs": [
    {
     "data": {
      "image/png": "[encoded data removed]",
      "text/plain": [
       "<Figure size 600x400 with 1 Axes>"
      ]
     },
     "metadata": {},
     "output_type": "display_data"
    },
    {
     "name": "stdout",
     "output_type": "stream",
     "text": [
      "Percentage Distribution of Cardiovascular Disease:\n",
      "0    50.704707\n",
      "1    49.295293\n",
      "Name: cardio, dtype: float64\n"
     ]
    }
   ],
   "source": [
    "# Assuming 'df' is your DataFrame\n",
    "plt.figure(figsize=(6, 4))\n",
    "sns.countplot(x='cardio', data=data)\n",
    "plt.title('Distribution of Cardiovascular Disease (0: No, 1: Yes)')\n",
    "plt.show()\n",
    "\n",
    "# Calculate the percentage of each class\n",
    "percentage_distribution = data['cardio'].value_counts(normalize=True) * 100\n",
    "print(\"Percentage Distribution of Cardiovascular Disease:\")\n",
    "print(percentage_distribution)"
   ]
  },
  {
   "cell_type": "markdown",
   "id": "d959ddc8",
   "metadata": {},
   "source": [
    "## Feature selection - correlation\n",
    "##### https://youtu.be/6N9H9KxdZdk?si=lvVH9AypB7wQB_ar"
   ]
  },
  {
   "cell_type": "code",
   "execution_count": 31,
   "id": "c2c1a0f8",
   "metadata": {},
   "outputs": [
    {
     "name": "stdout",
     "output_type": "stream",
     "text": [
      "                  age    gender     ap_hi     ap_lo  cholesterol      gluc  \\\n",
      "age          1.000000 -0.021672  0.198507  0.145784     0.158532  0.100268   \n",
      "gender      -0.021672  1.000000  0.054804  0.064402    -0.037063 -0.022356   \n",
      "ap_hi        0.198507  0.054804  1.000000  0.596655     0.183510  0.088792   \n",
      "ap_lo        0.145784  0.064402  0.596655  1.000000     0.148161  0.072571   \n",
      "cholesterol  0.158532 -0.037063  0.183510  0.148161     1.000000  0.449554   \n",
      "gluc         0.100268 -0.022356  0.088792  0.072571     0.449554  1.000000   \n",
      "smoke       -0.046035  0.337694  0.025272  0.020901     0.010096 -0.004710   \n",
      "alco        -0.029437  0.170762  0.028427  0.038197     0.035651  0.009162   \n",
      "active      -0.014269  0.005305  0.001920 -0.003828     0.004987 -0.012812   \n",
      "BMI          0.113379 -0.117644  0.246840  0.218850     0.172003  0.113820   \n",
      "\n",
      "                smoke      alco    active       BMI  \n",
      "age         -0.046035 -0.029437 -0.014269  0.113379  \n",
      "gender       0.337694  0.170762  0.005305 -0.117644  \n",
      "ap_hi        0.025272  0.028427  0.001920  0.246840  \n",
      "ap_lo        0.020901  0.038197 -0.003828  0.218850  \n",
      "cholesterol  0.010096  0.035651  0.004987  0.172003  \n",
      "gluc        -0.004710  0.009162 -0.012812  0.113820  \n",
      "smoke        1.000000  0.339420  0.030508 -0.037443  \n",
      "alco         0.339420  1.000000  0.030946  0.012483  \n",
      "active       0.030508  0.030946  1.000000 -0.012969  \n",
      "BMI         -0.037443  0.012483 -0.012969  1.000000  \n"
     ]
    }
   ],
   "source": [
    "correlation_matrix = X_train.corr()\n",
    "\n",
    "# Print the correlation matrix\n",
    "print(correlation_matrix)"
   ]
  },
  {
   "cell_type": "code",
   "execution_count": 32,
   "id": "7f8b6286",
   "metadata": {},
   "outputs": [
    {
     "data": {
      "image/png": "[encoded data removed]",
      "text/plain": [
       "<Figure size 640x480 with 2 Axes>"
      ]
     },
     "metadata": {},
     "output_type": "display_data"
    }
   ],
   "source": [
    "sns.heatmap(correlation_matrix, annot=True, cmap='coolwarm', fmt=\".2f\")\n",
    "plt.show()"
   ]
  },
  {
   "cell_type": "code",
   "execution_count": 33,
   "id": "4a0e0710",
   "metadata": {},
   "outputs": [
    {
     "name": "stdout",
     "output_type": "stream",
     "text": [
      "Correlation with Target:\n",
      "age            0.242678\n",
      "gender         0.003763\n",
      "ap_hi          0.397432\n",
      "ap_lo          0.310659\n",
      "cholesterol    0.222603\n",
      "gluc           0.089285\n",
      "smoke         -0.013500\n",
      "alco          -0.004358\n",
      "active        -0.039466\n",
      "BMI            0.196079\n",
      "dtype: float64\n",
      "\n",
      "Important Features:\n",
      "Index(['ap_hi', 'ap_lo', 'age', 'cholesterol', 'BMI', 'gluc', 'active',\n",
      "       'smoke', 'alco', 'gender'],\n",
      "      dtype='object')\n"
     ]
    }
   ],
   "source": [
    "correlation_with_target = X_train.apply(lambda x: x.corr(y_train))\n",
    "\n",
    "# Print the correlation with the target\n",
    "print(\"Correlation with Target:\")\n",
    "print(correlation_with_target)\n",
    "\n",
    "# Identify important features based on correlation with the target variable\n",
    "important_features = correlation_with_target.abs().sort_values(ascending=False).index\n",
    "\n",
    "# Print important features\n",
    "print(\"\\nImportant Features:\")\n",
    "print(important_features)"
   ]
  },
  {
   "cell_type": "code",
   "execution_count": 34,
   "id": "b2b1faf8",
   "metadata": {},
   "outputs": [],
   "source": [
    "from sklearn.feature_selection import chi2"
   ]
  },
  {
   "cell_type": "code",
   "execution_count": 35,
   "id": "5d0da40b",
   "metadata": {},
   "outputs": [
    {
     "data": {
      "text/html": [
       "<div>\n",
       "<style scoped>\n",
       "    .dataframe tbody tr th:only-of-type {\n",
       "        vertical-align: middle;\n",
       "    }\n",
       "\n",
       "    .dataframe tbody tr th {\n",
       "        vertical-align: top;\n",
       "    }\n",
       "\n",
       "    .dataframe thead th {\n",
       "        text-align: right;\n",
       "    }\n",
       "</style>\n",
       "<table border=\"1\" class=\"dataframe\">\n",
       "  <thead>\n",
       "    <tr style=\"text-align: right;\">\n",
       "      <th></th>\n",
       "      <th>gender</th>\n",
       "      <th>cholesterol</th>\n",
       "      <th>gluc</th>\n",
       "      <th>smoke</th>\n",
       "      <th>alco</th>\n",
       "      <th>active</th>\n",
       "    </tr>\n",
       "  </thead>\n",
       "  <tbody>\n",
       "    <tr>\n",
       "      <th>6053</th>\n",
       "      <td>1</td>\n",
       "      <td>3</td>\n",
       "      <td>3</td>\n",
       "      <td>0</td>\n",
       "      <td>0</td>\n",
       "      <td>0</td>\n",
       "    </tr>\n",
       "    <tr>\n",
       "      <th>57232</th>\n",
       "      <td>1</td>\n",
       "      <td>2</td>\n",
       "      <td>1</td>\n",
       "      <td>0</td>\n",
       "      <td>0</td>\n",
       "      <td>1</td>\n",
       "    </tr>\n",
       "    <tr>\n",
       "      <th>48643</th>\n",
       "      <td>2</td>\n",
       "      <td>1</td>\n",
       "      <td>1</td>\n",
       "      <td>0</td>\n",
       "      <td>0</td>\n",
       "      <td>1</td>\n",
       "    </tr>\n",
       "    <tr>\n",
       "      <th>30096</th>\n",
       "      <td>2</td>\n",
       "      <td>1</td>\n",
       "      <td>1</td>\n",
       "      <td>0</td>\n",
       "      <td>0</td>\n",
       "      <td>1</td>\n",
       "    </tr>\n",
       "    <tr>\n",
       "      <th>36062</th>\n",
       "      <td>1</td>\n",
       "      <td>1</td>\n",
       "      <td>1</td>\n",
       "      <td>0</td>\n",
       "      <td>0</td>\n",
       "      <td>1</td>\n",
       "    </tr>\n",
       "    <tr>\n",
       "      <th>...</th>\n",
       "      <td>...</td>\n",
       "      <td>...</td>\n",
       "      <td>...</td>\n",
       "      <td>...</td>\n",
       "      <td>...</td>\n",
       "      <td>...</td>\n",
       "    </tr>\n",
       "    <tr>\n",
       "      <th>38752</th>\n",
       "      <td>1</td>\n",
       "      <td>1</td>\n",
       "      <td>1</td>\n",
       "      <td>0</td>\n",
       "      <td>0</td>\n",
       "      <td>1</td>\n",
       "    </tr>\n",
       "    <tr>\n",
       "      <th>6550</th>\n",
       "      <td>1</td>\n",
       "      <td>2</td>\n",
       "      <td>1</td>\n",
       "      <td>0</td>\n",
       "      <td>0</td>\n",
       "      <td>1</td>\n",
       "    </tr>\n",
       "    <tr>\n",
       "      <th>57151</th>\n",
       "      <td>2</td>\n",
       "      <td>1</td>\n",
       "      <td>1</td>\n",
       "      <td>0</td>\n",
       "      <td>0</td>\n",
       "      <td>1</td>\n",
       "    </tr>\n",
       "    <tr>\n",
       "      <th>899</th>\n",
       "      <td>1</td>\n",
       "      <td>2</td>\n",
       "      <td>1</td>\n",
       "      <td>0</td>\n",
       "      <td>0</td>\n",
       "      <td>1</td>\n",
       "    </tr>\n",
       "    <tr>\n",
       "      <th>16468</th>\n",
       "      <td>1</td>\n",
       "      <td>1</td>\n",
       "      <td>1</td>\n",
       "      <td>0</td>\n",
       "      <td>0</td>\n",
       "      <td>0</td>\n",
       "    </tr>\n",
       "  </tbody>\n",
       "</table>\n",
       "<p>50393 rows × 6 columns</p>\n",
       "</div>"
      ],
      "text/plain": [
       "       gender  cholesterol  gluc  smoke  alco  active\n",
       "6053        1            3     3      0     0       0\n",
       "57232       1            2     1      0     0       1\n",
       "48643       2            1     1      0     0       1\n",
       "30096       2            1     1      0     0       1\n",
       "36062       1            1     1      0     0       1\n",
       "...       ...          ...   ...    ...   ...     ...\n",
       "38752       1            1     1      0     0       1\n",
       "6550        1            2     1      0     0       1\n",
       "57151       2            1     1      0     0       1\n",
       "899         1            2     1      0     0       1\n",
       "16468       1            1     1      0     0       0\n",
       "\n",
       "[50393 rows x 6 columns]"
      ]
     },
     "execution_count": 35,
     "metadata": {},
     "output_type": "execute_result"
    }
   ],
   "source": [
    "x = X_train.drop(columns=['age','ap_hi','ap_lo','BMI'])\n",
    "x"
   ]
  },
  {
   "cell_type": "code",
   "execution_count": 36,
   "id": "1a10a4b4",
   "metadata": {},
   "outputs": [
    {
     "data": {
      "text/plain": [
       "(array([1.20049997e-01, 8.44220815e+02, 1.05904169e+02, 8.38373010e+00,\n",
       "        9.07242799e-01, 1.54180638e+01]),\n",
       " array([7.28980270e-001, 1.31213452e-185, 7.73886416e-025, 3.78594636e-003,\n",
       "        3.40847045e-001, 8.61607224e-005]))"
      ]
     },
     "execution_count": 36,
     "metadata": {},
     "output_type": "execute_result"
    }
   ],
   "source": [
    "\n",
    "chi_score = chi2(x,y_train)\n",
    "chi_score"
   ]
  },
  {
   "cell_type": "code",
   "execution_count": 37,
   "id": "7d607bf7",
   "metadata": {},
   "outputs": [
    {
     "data": {
      "text/plain": [
       "<Axes: >"
      ]
     },
     "execution_count": 37,
     "metadata": {},
     "output_type": "execute_result"
    },
    {
     "data": {
      "image/png": "[encoded data removed]",
      "text/plain": [
       "<Figure size 640x480 with 1 Axes>"
      ]
     },
     "metadata": {},
     "output_type": "display_data"
    }
   ],
   "source": [
    "#higher chi values , higher importance\n",
    "chi_values = pd.Series(chi_score[0],index = x.columns)\n",
    "chi_values.sort_values(ascending = True,inplace = True)\n",
    "chi_values.plot.bar()"
   ]
  },
  {
   "cell_type": "code",
   "execution_count": 38,
   "id": "bc94dc20",
   "metadata": {},
   "outputs": [
    {
     "data": {
      "text/plain": [
       "<Axes: >"
      ]
     },
     "execution_count": 38,
     "metadata": {},
     "output_type": "execute_result"
    },
    {
     "data": {
      "image/png": "[encoded data removed]",
      "text/plain": [
       "<Figure size 640x480 with 1 Axes>"
      ]
     },
     "metadata": {},
     "output_type": "display_data"
    }
   ],
   "source": [
    "#higher the p values, lower the importance\n",
    "p_values = pd.Series(chi_score[1],index = x.columns)\n",
    "p_values.sort_values(ascending = True,inplace = True)\n",
    "p_values.plot.bar()"
   ]
  },
  {
   "cell_type": "code",
   "execution_count": 39,
   "id": "d1074f26",
   "metadata": {},
   "outputs": [],
   "source": [
    "## since gender and alco is least imp feature we are removing that"
   ]
  },
  {
   "cell_type": "code",
   "execution_count": 40,
   "id": "0e8cdfd9",
   "metadata": {},
   "outputs": [
    {
     "data": {
      "text/html": [
       "<div>\n",
       "<style scoped>\n",
       "    .dataframe tbody tr th:only-of-type {\n",
       "        vertical-align: middle;\n",
       "    }\n",
       "\n",
       "    .dataframe tbody tr th {\n",
       "        vertical-align: top;\n",
       "    }\n",
       "\n",
       "    .dataframe thead th {\n",
       "        text-align: right;\n",
       "    }\n",
       "</style>\n",
       "<table border=\"1\" class=\"dataframe\">\n",
       "  <thead>\n",
       "    <tr style=\"text-align: right;\">\n",
       "      <th></th>\n",
       "      <th>age</th>\n",
       "      <th>ap_hi</th>\n",
       "      <th>ap_lo</th>\n",
       "      <th>cholesterol</th>\n",
       "      <th>gluc</th>\n",
       "      <th>smoke</th>\n",
       "      <th>active</th>\n",
       "      <th>BMI</th>\n",
       "    </tr>\n",
       "  </thead>\n",
       "  <tbody>\n",
       "    <tr>\n",
       "      <th>6053</th>\n",
       "      <td>20687</td>\n",
       "      <td>130</td>\n",
       "      <td>90</td>\n",
       "      <td>3</td>\n",
       "      <td>3</td>\n",
       "      <td>0</td>\n",
       "      <td>0</td>\n",
       "      <td>23.73</td>\n",
       "    </tr>\n",
       "    <tr>\n",
       "      <th>57232</th>\n",
       "      <td>21935</td>\n",
       "      <td>130</td>\n",
       "      <td>80</td>\n",
       "      <td>2</td>\n",
       "      <td>1</td>\n",
       "      <td>0</td>\n",
       "      <td>1</td>\n",
       "      <td>27.34</td>\n",
       "    </tr>\n",
       "    <tr>\n",
       "      <th>48643</th>\n",
       "      <td>19608</td>\n",
       "      <td>140</td>\n",
       "      <td>70</td>\n",
       "      <td>1</td>\n",
       "      <td>1</td>\n",
       "      <td>0</td>\n",
       "      <td>1</td>\n",
       "      <td>32.47</td>\n",
       "    </tr>\n",
       "    <tr>\n",
       "      <th>30096</th>\n",
       "      <td>15433</td>\n",
       "      <td>120</td>\n",
       "      <td>90</td>\n",
       "      <td>1</td>\n",
       "      <td>1</td>\n",
       "      <td>0</td>\n",
       "      <td>1</td>\n",
       "      <td>27.68</td>\n",
       "    </tr>\n",
       "    <tr>\n",
       "      <th>36062</th>\n",
       "      <td>14490</td>\n",
       "      <td>110</td>\n",
       "      <td>70</td>\n",
       "      <td>1</td>\n",
       "      <td>1</td>\n",
       "      <td>0</td>\n",
       "      <td>1</td>\n",
       "      <td>20.28</td>\n",
       "    </tr>\n",
       "    <tr>\n",
       "      <th>...</th>\n",
       "      <td>...</td>\n",
       "      <td>...</td>\n",
       "      <td>...</td>\n",
       "      <td>...</td>\n",
       "      <td>...</td>\n",
       "      <td>...</td>\n",
       "      <td>...</td>\n",
       "      <td>...</td>\n",
       "    </tr>\n",
       "    <tr>\n",
       "      <th>38752</th>\n",
       "      <td>20358</td>\n",
       "      <td>110</td>\n",
       "      <td>70</td>\n",
       "      <td>1</td>\n",
       "      <td>1</td>\n",
       "      <td>0</td>\n",
       "      <td>1</td>\n",
       "      <td>31.62</td>\n",
       "    </tr>\n",
       "    <tr>\n",
       "      <th>6550</th>\n",
       "      <td>23245</td>\n",
       "      <td>110</td>\n",
       "      <td>70</td>\n",
       "      <td>2</td>\n",
       "      <td>1</td>\n",
       "      <td>0</td>\n",
       "      <td>1</td>\n",
       "      <td>26.23</td>\n",
       "    </tr>\n",
       "    <tr>\n",
       "      <th>57151</th>\n",
       "      <td>16767</td>\n",
       "      <td>120</td>\n",
       "      <td>80</td>\n",
       "      <td>1</td>\n",
       "      <td>1</td>\n",
       "      <td>0</td>\n",
       "      <td>1</td>\n",
       "      <td>30.82</td>\n",
       "    </tr>\n",
       "    <tr>\n",
       "      <th>899</th>\n",
       "      <td>20994</td>\n",
       "      <td>140</td>\n",
       "      <td>100</td>\n",
       "      <td>2</td>\n",
       "      <td>1</td>\n",
       "      <td>0</td>\n",
       "      <td>1</td>\n",
       "      <td>29.59</td>\n",
       "    </tr>\n",
       "    <tr>\n",
       "      <th>16468</th>\n",
       "      <td>17424</td>\n",
       "      <td>140</td>\n",
       "      <td>90</td>\n",
       "      <td>1</td>\n",
       "      <td>1</td>\n",
       "      <td>0</td>\n",
       "      <td>0</td>\n",
       "      <td>25.71</td>\n",
       "    </tr>\n",
       "  </tbody>\n",
       "</table>\n",
       "<p>50393 rows × 8 columns</p>\n",
       "</div>"
      ],
      "text/plain": [
       "         age  ap_hi  ap_lo  cholesterol  gluc  smoke  active    BMI\n",
       "6053   20687    130     90            3     3      0       0  23.73\n",
       "57232  21935    130     80            2     1      0       1  27.34\n",
       "48643  19608    140     70            1     1      0       1  32.47\n",
       "30096  15433    120     90            1     1      0       1  27.68\n",
       "36062  14490    110     70            1     1      0       1  20.28\n",
       "...      ...    ...    ...          ...   ...    ...     ...    ...\n",
       "38752  20358    110     70            1     1      0       1  31.62\n",
       "6550   23245    110     70            2     1      0       1  26.23\n",
       "57151  16767    120     80            1     1      0       1  30.82\n",
       "899    20994    140    100            2     1      0       1  29.59\n",
       "16468  17424    140     90            1     1      0       0  25.71\n",
       "\n",
       "[50393 rows x 8 columns]"
      ]
     },
     "execution_count": 40,
     "metadata": {},
     "output_type": "execute_result"
    }
   ],
   "source": [
    "X_train.drop(columns = ['gender','alco'])"
   ]
  },
  {
   "cell_type": "code",
   "execution_count": 41,
   "id": "1e97f464",
   "metadata": {},
   "outputs": [
    {
     "data": {
      "text/html": [
       "<div>\n",
       "<style scoped>\n",
       "    .dataframe tbody tr th:only-of-type {\n",
       "        vertical-align: middle;\n",
       "    }\n",
       "\n",
       "    .dataframe tbody tr th {\n",
       "        vertical-align: top;\n",
       "    }\n",
       "\n",
       "    .dataframe thead th {\n",
       "        text-align: right;\n",
       "    }\n",
       "</style>\n",
       "<table border=\"1\" class=\"dataframe\">\n",
       "  <thead>\n",
       "    <tr style=\"text-align: right;\">\n",
       "      <th></th>\n",
       "      <th>age</th>\n",
       "      <th>ap_hi</th>\n",
       "      <th>ap_lo</th>\n",
       "      <th>cholesterol</th>\n",
       "      <th>gluc</th>\n",
       "      <th>smoke</th>\n",
       "      <th>active</th>\n",
       "      <th>BMI</th>\n",
       "    </tr>\n",
       "  </thead>\n",
       "  <tbody>\n",
       "    <tr>\n",
       "      <th>62789</th>\n",
       "      <td>19066</td>\n",
       "      <td>120</td>\n",
       "      <td>80</td>\n",
       "      <td>1</td>\n",
       "      <td>3</td>\n",
       "      <td>0</td>\n",
       "      <td>1</td>\n",
       "      <td>27.94</td>\n",
       "    </tr>\n",
       "    <tr>\n",
       "      <th>68963</th>\n",
       "      <td>21263</td>\n",
       "      <td>150</td>\n",
       "      <td>80</td>\n",
       "      <td>1</td>\n",
       "      <td>1</td>\n",
       "      <td>0</td>\n",
       "      <td>1</td>\n",
       "      <td>25.21</td>\n",
       "    </tr>\n",
       "    <tr>\n",
       "      <th>33376</th>\n",
       "      <td>19656</td>\n",
       "      <td>140</td>\n",
       "      <td>80</td>\n",
       "      <td>1</td>\n",
       "      <td>3</td>\n",
       "      <td>0</td>\n",
       "      <td>1</td>\n",
       "      <td>35.43</td>\n",
       "    </tr>\n",
       "    <tr>\n",
       "      <th>57011</th>\n",
       "      <td>19161</td>\n",
       "      <td>110</td>\n",
       "      <td>70</td>\n",
       "      <td>1</td>\n",
       "      <td>1</td>\n",
       "      <td>0</td>\n",
       "      <td>0</td>\n",
       "      <td>27.17</td>\n",
       "    </tr>\n",
       "    <tr>\n",
       "      <th>38620</th>\n",
       "      <td>15963</td>\n",
       "      <td>120</td>\n",
       "      <td>80</td>\n",
       "      <td>1</td>\n",
       "      <td>1</td>\n",
       "      <td>1</td>\n",
       "      <td>0</td>\n",
       "      <td>26.57</td>\n",
       "    </tr>\n",
       "    <tr>\n",
       "      <th>...</th>\n",
       "      <td>...</td>\n",
       "      <td>...</td>\n",
       "      <td>...</td>\n",
       "      <td>...</td>\n",
       "      <td>...</td>\n",
       "      <td>...</td>\n",
       "      <td>...</td>\n",
       "      <td>...</td>\n",
       "    </tr>\n",
       "    <tr>\n",
       "      <th>31475</th>\n",
       "      <td>22768</td>\n",
       "      <td>140</td>\n",
       "      <td>90</td>\n",
       "      <td>1</td>\n",
       "      <td>1</td>\n",
       "      <td>0</td>\n",
       "      <td>1</td>\n",
       "      <td>32.74</td>\n",
       "    </tr>\n",
       "    <tr>\n",
       "      <th>24930</th>\n",
       "      <td>18384</td>\n",
       "      <td>145</td>\n",
       "      <td>80</td>\n",
       "      <td>2</td>\n",
       "      <td>1</td>\n",
       "      <td>0</td>\n",
       "      <td>1</td>\n",
       "      <td>19.72</td>\n",
       "    </tr>\n",
       "    <tr>\n",
       "      <th>44043</th>\n",
       "      <td>15302</td>\n",
       "      <td>120</td>\n",
       "      <td>80</td>\n",
       "      <td>1</td>\n",
       "      <td>1</td>\n",
       "      <td>0</td>\n",
       "      <td>1</td>\n",
       "      <td>20.83</td>\n",
       "    </tr>\n",
       "    <tr>\n",
       "      <th>62257</th>\n",
       "      <td>19837</td>\n",
       "      <td>120</td>\n",
       "      <td>80</td>\n",
       "      <td>1</td>\n",
       "      <td>1</td>\n",
       "      <td>0</td>\n",
       "      <td>1</td>\n",
       "      <td>22.04</td>\n",
       "    </tr>\n",
       "    <tr>\n",
       "      <th>46774</th>\n",
       "      <td>16737</td>\n",
       "      <td>110</td>\n",
       "      <td>80</td>\n",
       "      <td>1</td>\n",
       "      <td>1</td>\n",
       "      <td>1</td>\n",
       "      <td>0</td>\n",
       "      <td>19.72</td>\n",
       "    </tr>\n",
       "  </tbody>\n",
       "</table>\n",
       "<p>16798 rows × 8 columns</p>\n",
       "</div>"
      ],
      "text/plain": [
       "         age  ap_hi  ap_lo  cholesterol  gluc  smoke  active    BMI\n",
       "62789  19066    120     80            1     3      0       1  27.94\n",
       "68963  21263    150     80            1     1      0       1  25.21\n",
       "33376  19656    140     80            1     3      0       1  35.43\n",
       "57011  19161    110     70            1     1      0       0  27.17\n",
       "38620  15963    120     80            1     1      1       0  26.57\n",
       "...      ...    ...    ...          ...   ...    ...     ...    ...\n",
       "31475  22768    140     90            1     1      0       1  32.74\n",
       "24930  18384    145     80            2     1      0       1  19.72\n",
       "44043  15302    120     80            1     1      0       1  20.83\n",
       "62257  19837    120     80            1     1      0       1  22.04\n",
       "46774  16737    110     80            1     1      1       0  19.72\n",
       "\n",
       "[16798 rows x 8 columns]"
      ]
     },
     "execution_count": 41,
     "metadata": {},
     "output_type": "execute_result"
    }
   ],
   "source": [
    "X_test.drop(columns = ['gender','alco'])"
   ]
  },
  {
   "cell_type": "markdown",
   "id": "1d6c9c6c",
   "metadata": {},
   "source": [
    "## knn"
   ]
  },
  {
   "cell_type": "code",
   "execution_count": 42,
   "id": "afb10812",
   "metadata": {},
   "outputs": [],
   "source": [
    "from sklearn.neighbors import KNeighborsClassifier\n",
    "\n",
    "knn_model_3 = KNeighborsClassifier(n_neighbors=3)\n",
    "knn_model_5 = KNeighborsClassifier(n_neighbors=5)\n",
    "knn_model_10 = KNeighborsClassifier(n_neighbors=10)\n",
    "\n",
    "train_labels = y_train.ravel()"
   ]
  },
  {
   "cell_type": "code",
   "execution_count": 43,
   "id": "84322786",
   "metadata": {},
   "outputs": [
    {
     "data": {
      "text/html": [
       "<style>#sk-container-id-1 {color: black;}#sk-container-id-1 pre{padding: 0;}#sk-container-id-1 div.sk-toggleable {background-color: white;}#sk-container-id-1 label.sk-toggleable__label {cursor: pointer;display: block;width: 100%;margin-bottom: 0;padding: 0.3em;box-sizing: border-box;text-align: center;}#sk-container-id-1 label.sk-toggleable__label-arrow:before {content: \"▸\";float: left;margin-right: 0.25em;color: #696969;}#sk-container-id-1 label.sk-toggleable__label-arrow:hover:before {color: black;}#sk-container-id-1 div.sk-estimator:hover label.sk-toggleable__label-arrow:before {color: black;}#sk-container-id-1 div.sk-toggleable__content {max-height: 0;max-width: 0;overflow: hidden;text-align: left;background-color: #f0f8ff;}#sk-container-id-1 div.sk-toggleable__content pre {margin: 0.2em;color: black;border-radius: 0.25em;background-color: #f0f8ff;}#sk-container-id-1 input.sk-toggleable__control:checked~div.sk-toggleable__content {max-height: 200px;max-width: 100%;overflow: auto;}#sk-container-id-1 input.sk-toggleable__control:checked~label.sk-toggleable__label-arrow:before {content: \"▾\";}#sk-container-id-1 div.sk-estimator input.sk-toggleable__control:checked~label.sk-toggleable__label {background-color: #d4ebff;}#sk-container-id-1 div.sk-label input.sk-toggleable__control:checked~label.sk-toggleable__label {background-color: #d4ebff;}#sk-container-id-1 input.sk-hidden--visually {border: 0;clip: rect(1px 1px 1px 1px);clip: rect(1px, 1px, 1px, 1px);height: 1px;margin: -1px;overflow: hidden;padding: 0;position: absolute;width: 1px;}#sk-container-id-1 div.sk-estimator {font-family: monospace;background-color: #f0f8ff;border: 1px dotted black;border-radius: 0.25em;box-sizing: border-box;margin-bottom: 0.5em;}#sk-container-id-1 div.sk-estimator:hover {background-color: #d4ebff;}#sk-container-id-1 div.sk-parallel-item::after {content: \"\";width: 100%;border-bottom: 1px solid gray;flex-grow: 1;}#sk-container-id-1 div.sk-label:hover label.sk-toggleable__label {background-color: #d4ebff;}#sk-container-id-1 div.sk-serial::before {content: \"\";position: absolute;border-left: 1px solid gray;box-sizing: border-box;top: 0;bottom: 0;left: 50%;z-index: 0;}#sk-container-id-1 div.sk-serial {display: flex;flex-direction: column;align-items: center;background-color: white;padding-right: 0.2em;padding-left: 0.2em;position: relative;}#sk-container-id-1 div.sk-item {position: relative;z-index: 1;}#sk-container-id-1 div.sk-parallel {display: flex;align-items: stretch;justify-content: center;background-color: white;position: relative;}#sk-container-id-1 div.sk-item::before, #sk-container-id-1 div.sk-parallel-item::before {content: \"\";position: absolute;border-left: 1px solid gray;box-sizing: border-box;top: 0;bottom: 0;left: 50%;z-index: -1;}#sk-container-id-1 div.sk-parallel-item {display: flex;flex-direction: column;z-index: 1;position: relative;background-color: white;}#sk-container-id-1 div.sk-parallel-item:first-child::after {align-self: flex-end;width: 50%;}#sk-container-id-1 div.sk-parallel-item:last-child::after {align-self: flex-start;width: 50%;}#sk-container-id-1 div.sk-parallel-item:only-child::after {width: 0;}#sk-container-id-1 div.sk-dashed-wrapped {border: 1px dashed gray;margin: 0 0.4em 0.5em 0.4em;box-sizing: border-box;padding-bottom: 0.4em;background-color: white;}#sk-container-id-1 div.sk-label label {font-family: monospace;font-weight: bold;display: inline-block;line-height: 1.2em;}#sk-container-id-1 div.sk-label-container {text-align: center;}#sk-container-id-1 div.sk-container {/* jupyter's `normalize.less` sets `[hidden] { display: none; }` but bootstrap.min.css set `[hidden] { display: none !important; }` so we also need the `!important` here to be able to override the default hidden behavior on the sphinx rendered scikit-learn.org. See: https://github.com/scikit-learn/scikit-learn/issues/21755 */display: inline-block !important;position: relative;}#sk-container-id-1 div.sk-text-repr-fallback {display: none;}</style><div id=\"sk-container-id-1\" class=\"sk-top-container\"><div class=\"sk-text-repr-fallback\"><pre>KNeighborsClassifier(n_neighbors=10)</pre><b>In a Jupyter environment, please rerun this cell to show the HTML representation or trust the notebook. <br />On GitHub, the HTML representation is unable to render, please try loading this page with nbviewer.org.</b></div><div class=\"sk-container\" hidden><div class=\"sk-item\"><div class=\"sk-estimator sk-toggleable\"><input class=\"sk-toggleable__control sk-hidden--visually\" id=\"sk-estimator-id-1\" type=\"checkbox\" checked><label for=\"sk-estimator-id-1\" class=\"sk-toggleable__label sk-toggleable__label-arrow\">KNeighborsClassifier</label><div class=\"sk-toggleable__content\"><pre>KNeighborsClassifier(n_neighbors=10)</pre></div></div></div></div></div>"
      ],
      "text/plain": [
       "KNeighborsClassifier(n_neighbors=10)"
      ]
     },
     "execution_count": 43,
     "metadata": {},
     "output_type": "execute_result"
    }
   ],
   "source": [
    "knn_model_3.fit(X_train, train_labels)\n",
    "knn_model_5.fit(X_train, train_labels)\n",
    "knn_model_10.fit(X_train, train_labels)"
   ]
  },
  {
   "cell_type": "code",
   "execution_count": 44,
   "id": "f76d6756",
   "metadata": {},
   "outputs": [],
   "source": [
    "knn3_accuracy = knn_model_3.score(X_test, y_test)\n",
    "knn5_accuracy = knn_model_5.score(X_test, y_test)\n",
    "knn10_accuracy = knn_model_10.score(X_test, y_test)"
   ]
  },
  {
   "cell_type": "code",
   "execution_count": 45,
   "id": "ff0c4243",
   "metadata": {},
   "outputs": [
    {
     "name": "stdout",
     "output_type": "stream",
     "text": [
      "K3 Accuracy 67.15680438147399\n",
      "K5 Accuracy 68.74032622931301\n",
      "K10 Accuracy 70.02619359447553\n"
     ]
    }
   ],
   "source": [
    "knn3_accuracy = knn_model_3.score(X_test, y_test)\n",
    "knn5_accuracy = knn_model_5.score(X_test, y_test)\n",
    "knn10_accuracy = knn_model_10.score(X_test, y_test)\n",
    "\n",
    "###\n",
    "print(\"K3 Accuracy\",knn3_accuracy*100)\n",
    "print(\"K5 Accuracy\",knn5_accuracy*100)\n",
    "print(\"K10 Accuracy\",knn10_accuracy*100)"
   ]
  },
  {
   "cell_type": "markdown",
   "id": "5409b226",
   "metadata": {},
   "source": [
    "## gaussian native bayes"
   ]
  },
  {
   "cell_type": "code",
   "execution_count": 46,
   "id": "624bab7f",
   "metadata": {},
   "outputs": [
    {
     "name": "stdout",
     "output_type": "stream",
     "text": [
      "Accuracy: 70.34170734611264\n",
      "Confusion Matrix:\n",
      "[[6880 1608]\n",
      " [3374 4936]]\n",
      "Classification Report:\n",
      "              precision    recall  f1-score   support\n",
      "\n",
      "           0       0.67      0.81      0.73      8488\n",
      "           1       0.75      0.59      0.66      8310\n",
      "\n",
      "    accuracy                           0.70     16798\n",
      "   macro avg       0.71      0.70      0.70     16798\n",
      "weighted avg       0.71      0.70      0.70     16798\n",
      "\n"
     ]
    }
   ],
   "source": [
    "from sklearn.naive_bayes import GaussianNB\n",
    "from sklearn.metrics import accuracy_score, classification_report, confusion_matrix\n",
    "\n",
    "\n",
    "# Train a Gaussian Naive Bayes classifier\n",
    "naive_bayes_classifier = GaussianNB()\n",
    "naive_bayes_classifier.fit(X_train, y_train)\n",
    "\n",
    "# Make predictions on the test set\n",
    "predictions = naive_bayes_classifier.predict(X_test)\n",
    "\n",
    "# Evaluate the model\n",
    "accuracy = accuracy_score(y_test, predictions)\n",
    "conf_matrix = confusion_matrix(y_test, predictions)\n",
    "classification_rep = classification_report(y_test, predictions)\n",
    "\n",
    "print(f'Accuracy: {accuracy*100}')\n",
    "print(f'Confusion Matrix:\\n{conf_matrix}')\n",
    "print(f'Classification Report:\\n{classification_rep}')"
   ]
  },
  {
   "cell_type": "markdown",
   "id": "6f21c12f",
   "metadata": {},
   "source": [
    "## desicion tree"
   ]
  },
  {
   "cell_type": "code",
   "execution_count": 47,
   "id": "e6532fd1",
   "metadata": {},
   "outputs": [
    {
     "name": "stdout",
     "output_type": "stream",
     "text": [
      "Accuracy: 72.65150613168234\n",
      "Confusion Matrix:\n",
      "[[6743 1745]\n",
      " [2849 5461]]\n",
      "Classification Report:\n",
      "              precision    recall  f1-score   support\n",
      "\n",
      "           0       0.70      0.79      0.75      8488\n",
      "           1       0.76      0.66      0.70      8310\n",
      "\n",
      "    accuracy                           0.73     16798\n",
      "   macro avg       0.73      0.73      0.72     16798\n",
      "weighted avg       0.73      0.73      0.73     16798\n",
      "\n"
     ]
    }
   ],
   "source": [
    "from sklearn.tree import DecisionTreeClassifier, plot_tree\n",
    "\n",
    "# Initialize the Decision Tree Classifier\n",
    "decision_tree_classifier = DecisionTreeClassifier(max_depth = 5, random_state=42)\n",
    "\n",
    "# Train the classifier on the training data\n",
    "decision_tree_classifier.fit(X_train, y_train)\n",
    "\n",
    "# Make predictions on the test set\n",
    "predictions = decision_tree_classifier.predict(X_test)\n",
    "\n",
    "# Evaluate the model\n",
    "accuracy = accuracy_score(y_test, predictions)\n",
    "conf_matrix = confusion_matrix(y_test, predictions)\n",
    "classification_rep = classification_report(y_test, predictions)\n",
    "\n",
    "print(f'Accuracy: {accuracy*100}')\n",
    "print(f'Confusion Matrix:\\n{conf_matrix}')\n",
    "print(f'Classification Report:\\n{classification_rep}')"
   ]
  },
  {
   "cell_type": "code",
   "execution_count": 48,
   "id": "9f772187",
   "metadata": {},
   "outputs": [],
   "source": [
    "new_model = DecisionTreeClassifier(max_depth=decision_tree_classifier.max_depth, criterion=decision_tree_classifier.criterion)"
   ]
  },
  {
   "cell_type": "code",
   "execution_count": 49,
   "id": "3bbfa82c",
   "metadata": {},
   "outputs": [],
   "source": [
    "# plt.figure(figsize=(20,10))\n",
    "# plot_tree(new_model.fit(X_test,y_test), filled=True)\n",
    "# plt.show()"
   ]
  },
  {
   "cell_type": "markdown",
   "id": "e35492ad",
   "metadata": {},
   "source": [
    "## Random forest"
   ]
  },
  {
   "cell_type": "code",
   "execution_count": 52,
   "id": "ac33478e",
   "metadata": {},
   "outputs": [
    {
     "name": "stdout",
     "output_type": "stream",
     "text": [
      "Accuracy: 70.5322062150256\n",
      "Confusion Matrix:\n",
      "[[6194 2294]\n",
      " [2656 5654]]\n",
      "Classification Report:\n",
      "              precision    recall  f1-score   support\n",
      "\n",
      "           0       0.70      0.73      0.71      8488\n",
      "           1       0.71      0.68      0.70      8310\n",
      "\n",
      "    accuracy                           0.71     16798\n",
      "   macro avg       0.71      0.71      0.71     16798\n",
      "weighted avg       0.71      0.71      0.71     16798\n",
      "\n"
     ]
    }
   ],
   "source": [
    "from sklearn.ensemble import RandomForestClassifier\n",
    "# Initialize the Random Forest Classifier\n",
    "random_forest_classifier = RandomForestClassifier(random_state=42)\n",
    "\n",
    "# Train the classifier on the training data\n",
    "random_forest_classifier.fit(X_train, y_train)\n",
    "\n",
    "# Make predictions on the test set\n",
    "predictions = random_forest_classifier.predict(X_test)\n",
    "\n",
    "# Evaluate the model\n",
    "accuracy = accuracy_score(y_test, predictions)\n",
    "conf_matrix = confusion_matrix(y_test, predictions)\n",
    "classification_rep = classification_report(y_test, predictions)\n",
    "\n",
    "print(f'Accuracy: {accuracy*100}')\n",
    "print(f'Confusion Matrix:\\n{conf_matrix}')\n",
    "print(f'Classification Report:\\n{classification_rep}')\n"
   ]
  },
  {
   "cell_type": "markdown",
   "id": "169215c1",
   "metadata": {},
   "source": [
    "## svm"
   ]
  },
  {
   "cell_type": "code",
   "execution_count": 54,
   "id": "058b00b3",
   "metadata": {},
   "outputs": [
    {
     "name": "stdout",
     "output_type": "stream",
     "text": [
      "Accuracy: 71.60971544231455\n",
      "Confusion Matrix:\n",
      "[[6889 1599]\n",
      " [3170 5140]]\n",
      "Classification Report:\n",
      "              precision    recall  f1-score   support\n",
      "\n",
      "           0       0.68      0.81      0.74      8488\n",
      "           1       0.76      0.62      0.68      8310\n",
      "\n",
      "    accuracy                           0.72     16798\n",
      "   macro avg       0.72      0.72      0.71     16798\n",
      "weighted avg       0.72      0.72      0.71     16798\n",
      "\n"
     ]
    }
   ],
   "source": [
    "from sklearn.svm import SVC\n",
    "\n",
    "# Initialize the Support Vector Machine Classifier\n",
    "svm_classifier = SVC(kernel='linear', random_state=42)\n",
    "\n",
    "# Train the classifier on the training data\n",
    "svm_classifier.fit(X_train, y_train)\n",
    "\n",
    "# Make predictions on the test set\n",
    "predictions = svm_classifier.predict(X_test)\n",
    "\n",
    "# Evaluate the model\n",
    "accuracy = accuracy_score(y_test, predictions)\n",
    "conf_matrix = confusion_matrix(y_test, predictions)\n",
    "classification_rep = classification_report(y_test, predictions)\n",
    "\n",
    "print(f'Accuracy: {accuracy*100}')\n",
    "print(f'Confusion Matrix:\\n{conf_matrix}')\n",
    "print(f'Classification Report:\\n{classification_rep}')"
   ]
  },
  {
   "cell_type": "markdown",
   "id": "54808392",
   "metadata": {},
   "source": [
    "## logistic regression"
   ]
  },
  {
   "cell_type": "code",
   "execution_count": 56,
   "id": "ecd82436",
   "metadata": {},
   "outputs": [
    {
     "name": "stdout",
     "output_type": "stream",
     "text": [
      "Accuracy: 63.090844148112865\n",
      "Confusion Matrix:\n",
      "[[5804 2684]\n",
      " [3516 4794]]\n",
      "Classification Report:\n",
      "              precision    recall  f1-score   support\n",
      "\n",
      "           0       0.62      0.68      0.65      8488\n",
      "           1       0.64      0.58      0.61      8310\n",
      "\n",
      "    accuracy                           0.63     16798\n",
      "   macro avg       0.63      0.63      0.63     16798\n",
      "weighted avg       0.63      0.63      0.63     16798\n",
      "\n"
     ]
    }
   ],
   "source": [
    "from sklearn.linear_model import LogisticRegression\n",
    "\n",
    "# Initialize the Logistic Regression model\n",
    "logistic_regression_model = LogisticRegression(random_state=42)\n",
    "\n",
    "# Train the model on the training data\n",
    "logistic_regression_model.fit(X_train, y_train)\n",
    "\n",
    "# Make predictions on the test set\n",
    "predictions = logistic_regression_model.predict(X_test)\n",
    "\n",
    "# Evaluate the model\n",
    "accuracy = accuracy_score(y_test, predictions)\n",
    "conf_matrix = confusion_matrix(y_test, predictions)\n",
    "classification_rep = classification_report(y_test, predictions)\n",
    "\n",
    "print(f'Accuracy: {accuracy*100}')\n",
    "print(f'Confusion Matrix:\\n{conf_matrix}')\n",
    "print(f'Classification Report:\\n{classification_rep}')"
   ]
  },
  {
   "cell_type": "markdown",
   "id": "aff0c586",
   "metadata": {},
   "source": [
    "## knn with grid search"
   ]
  },
  {
   "cell_type": "code",
   "execution_count": 58,
   "id": "280c8e68",
   "metadata": {},
   "outputs": [
    {
     "name": "stdout",
     "output_type": "stream",
     "text": [
      "Best Hyperparameters: {'n_neighbors': 9, 'p': 1, 'weights': 'uniform'}\n",
      "Accuracy: 70.2166924633885\n",
      "Confusion Matrix:\n",
      "[[6353 2135]\n",
      " [2868 5442]]\n",
      "Classification Report:\n",
      "              precision    recall  f1-score   support\n",
      "\n",
      "           0       0.69      0.75      0.72      8488\n",
      "           1       0.72      0.65      0.69      8310\n",
      "\n",
      "    accuracy                           0.70     16798\n",
      "   macro avg       0.70      0.70      0.70     16798\n",
      "weighted avg       0.70      0.70      0.70     16798\n",
      "\n"
     ]
    }
   ],
   "source": [
    "from sklearn.model_selection import train_test_split, GridSearchCV\n",
    "from sklearn.neighbors import KNeighborsClassifier\n",
    "\n",
    "# Initialize the KNN classifier\n",
    "knn_classifier = KNeighborsClassifier()\n",
    "\n",
    "# Define the hyperparameter space\n",
    "param_grid = {'n_neighbors': [3, 5, 7, 9], 'weights': ['uniform', 'distance'], 'p': [1, 2]}\n",
    "\n",
    "# Initialize Grid Search with Cross-Validation\n",
    "grid_search = GridSearchCV(knn_classifier, param_grid, cv=5)\n",
    "\n",
    "# Fit the Grid Search to the data\n",
    "grid_search.fit(X_train, y_train)\n",
    "\n",
    "# Print the best hyperparameters found by Grid Search\n",
    "print(\"Best Hyperparameters:\", grid_search.best_params_)\n",
    "\n",
    "# Make predictions on the test set using the best model\n",
    "best_knn_model = grid_search.best_estimator_\n",
    "predictions = best_knn_model.predict(X_test)\n",
    "\n",
    "# Evaluate the best model\n",
    "accuracy = accuracy_score(y_test, predictions)\n",
    "conf_matrix = confusion_matrix(y_test, predictions)\n",
    "classification_rep = classification_report(y_test, predictions)\n",
    "\n",
    "\n",
    "print(f'Accuracy: {accuracy*100}')\n",
    "print(f'Confusion Matrix:\\n{conf_matrix}')\n",
    "print(f'Classification Report:\\n{classification_rep}')"
   ]
  },
  {
   "cell_type": "code",
   "execution_count": null,
   "id": "44eca0b0",
   "metadata": {},
   "outputs": [],
   "source": []
  }
 ],
 "metadata": {
  "colab": {
   "provenance": []
  },
  "kernelspec": {
   "display_name": "Python 3 (ipykernel)",
   "language": "python",
   "name": "python3"
  },
  "language_info": {
   "codemirror_mode": {
    "name": "ipython",
    "version": 3
   },
   "file_extension": ".py",
   "mimetype": "text/x-python",
   "name": "python",
   "nbconvert_exporter": "python",
   "pygments_lexer": "ipython3",
   "version": "3.11.4"
  }
 },
 "nbformat": 4,
 "nbformat_minor": 5
}
